{
 "cells": [
  {
   "cell_type": "code",
   "execution_count": 1,
   "id": "6b638ec1",
   "metadata": {},
   "outputs": [],
   "source": [
    "import numpy as np\n",
    "import pandas as pd\n",
    "import warnings\n",
    "warnings.filterwarnings('ignore')"
   ]
  },
  {
   "cell_type": "code",
   "execution_count": 2,
   "id": "2c458532",
   "metadata": {},
   "outputs": [],
   "source": [
    "df=pd.read_csv('mobile_price_range_data.csv')"
   ]
  },
  {
   "cell_type": "markdown",
   "id": "e6969c36",
   "metadata": {},
   "source": [
    "## Handling Null Values"
   ]
  },
  {
   "cell_type": "code",
   "execution_count": 5,
   "id": "321d7188",
   "metadata": {},
   "outputs": [
    {
     "data": {
      "text/html": [
       "<div>\n",
       "<style scoped>\n",
       "    .dataframe tbody tr th:only-of-type {\n",
       "        vertical-align: middle;\n",
       "    }\n",
       "\n",
       "    .dataframe tbody tr th {\n",
       "        vertical-align: top;\n",
       "    }\n",
       "\n",
       "    .dataframe thead th {\n",
       "        text-align: right;\n",
       "    }\n",
       "</style>\n",
       "<table border=\"1\" class=\"dataframe\">\n",
       "  <thead>\n",
       "    <tr style=\"text-align: right;\">\n",
       "      <th></th>\n",
       "      <th>battery_power</th>\n",
       "      <th>blue</th>\n",
       "      <th>clock_speed</th>\n",
       "      <th>dual_sim</th>\n",
       "      <th>fc</th>\n",
       "      <th>four_g</th>\n",
       "      <th>int_memory</th>\n",
       "      <th>m_dep</th>\n",
       "      <th>mobile_wt</th>\n",
       "      <th>n_cores</th>\n",
       "      <th>...</th>\n",
       "      <th>px_height</th>\n",
       "      <th>px_width</th>\n",
       "      <th>ram</th>\n",
       "      <th>sc_h</th>\n",
       "      <th>sc_w</th>\n",
       "      <th>talk_time</th>\n",
       "      <th>three_g</th>\n",
       "      <th>touch_screen</th>\n",
       "      <th>wifi</th>\n",
       "      <th>price_range</th>\n",
       "    </tr>\n",
       "  </thead>\n",
       "  <tbody>\n",
       "    <tr>\n",
       "      <th>0</th>\n",
       "      <td>842</td>\n",
       "      <td>0</td>\n",
       "      <td>2.2</td>\n",
       "      <td>0</td>\n",
       "      <td>1</td>\n",
       "      <td>0</td>\n",
       "      <td>7</td>\n",
       "      <td>0.6</td>\n",
       "      <td>188</td>\n",
       "      <td>2</td>\n",
       "      <td>...</td>\n",
       "      <td>20</td>\n",
       "      <td>756</td>\n",
       "      <td>2549</td>\n",
       "      <td>9</td>\n",
       "      <td>7</td>\n",
       "      <td>19</td>\n",
       "      <td>0</td>\n",
       "      <td>0</td>\n",
       "      <td>1</td>\n",
       "      <td>1</td>\n",
       "    </tr>\n",
       "    <tr>\n",
       "      <th>1</th>\n",
       "      <td>1021</td>\n",
       "      <td>1</td>\n",
       "      <td>0.5</td>\n",
       "      <td>1</td>\n",
       "      <td>0</td>\n",
       "      <td>1</td>\n",
       "      <td>53</td>\n",
       "      <td>0.7</td>\n",
       "      <td>136</td>\n",
       "      <td>3</td>\n",
       "      <td>...</td>\n",
       "      <td>905</td>\n",
       "      <td>1988</td>\n",
       "      <td>2631</td>\n",
       "      <td>17</td>\n",
       "      <td>3</td>\n",
       "      <td>7</td>\n",
       "      <td>1</td>\n",
       "      <td>1</td>\n",
       "      <td>0</td>\n",
       "      <td>2</td>\n",
       "    </tr>\n",
       "    <tr>\n",
       "      <th>2</th>\n",
       "      <td>563</td>\n",
       "      <td>1</td>\n",
       "      <td>0.5</td>\n",
       "      <td>1</td>\n",
       "      <td>2</td>\n",
       "      <td>1</td>\n",
       "      <td>41</td>\n",
       "      <td>0.9</td>\n",
       "      <td>145</td>\n",
       "      <td>5</td>\n",
       "      <td>...</td>\n",
       "      <td>1263</td>\n",
       "      <td>1716</td>\n",
       "      <td>2603</td>\n",
       "      <td>11</td>\n",
       "      <td>2</td>\n",
       "      <td>9</td>\n",
       "      <td>1</td>\n",
       "      <td>1</td>\n",
       "      <td>0</td>\n",
       "      <td>2</td>\n",
       "    </tr>\n",
       "    <tr>\n",
       "      <th>3</th>\n",
       "      <td>615</td>\n",
       "      <td>1</td>\n",
       "      <td>2.5</td>\n",
       "      <td>0</td>\n",
       "      <td>0</td>\n",
       "      <td>0</td>\n",
       "      <td>10</td>\n",
       "      <td>0.8</td>\n",
       "      <td>131</td>\n",
       "      <td>6</td>\n",
       "      <td>...</td>\n",
       "      <td>1216</td>\n",
       "      <td>1786</td>\n",
       "      <td>2769</td>\n",
       "      <td>16</td>\n",
       "      <td>8</td>\n",
       "      <td>11</td>\n",
       "      <td>1</td>\n",
       "      <td>0</td>\n",
       "      <td>0</td>\n",
       "      <td>2</td>\n",
       "    </tr>\n",
       "    <tr>\n",
       "      <th>4</th>\n",
       "      <td>1821</td>\n",
       "      <td>1</td>\n",
       "      <td>1.2</td>\n",
       "      <td>0</td>\n",
       "      <td>13</td>\n",
       "      <td>1</td>\n",
       "      <td>44</td>\n",
       "      <td>0.6</td>\n",
       "      <td>141</td>\n",
       "      <td>2</td>\n",
       "      <td>...</td>\n",
       "      <td>1208</td>\n",
       "      <td>1212</td>\n",
       "      <td>1411</td>\n",
       "      <td>8</td>\n",
       "      <td>2</td>\n",
       "      <td>15</td>\n",
       "      <td>1</td>\n",
       "      <td>1</td>\n",
       "      <td>0</td>\n",
       "      <td>1</td>\n",
       "    </tr>\n",
       "  </tbody>\n",
       "</table>\n",
       "<p>5 rows × 21 columns</p>\n",
       "</div>"
      ],
      "text/plain": [
       "   battery_power  blue  clock_speed  dual_sim  fc  four_g  int_memory  m_dep  \\\n",
       "0            842     0          2.2         0   1       0           7    0.6   \n",
       "1           1021     1          0.5         1   0       1          53    0.7   \n",
       "2            563     1          0.5         1   2       1          41    0.9   \n",
       "3            615     1          2.5         0   0       0          10    0.8   \n",
       "4           1821     1          1.2         0  13       1          44    0.6   \n",
       "\n",
       "   mobile_wt  n_cores  ...  px_height  px_width   ram  sc_h  sc_w  talk_time  \\\n",
       "0        188        2  ...         20       756  2549     9     7         19   \n",
       "1        136        3  ...        905      1988  2631    17     3          7   \n",
       "2        145        5  ...       1263      1716  2603    11     2          9   \n",
       "3        131        6  ...       1216      1786  2769    16     8         11   \n",
       "4        141        2  ...       1208      1212  1411     8     2         15   \n",
       "\n",
       "   three_g  touch_screen  wifi  price_range  \n",
       "0        0             0     1            1  \n",
       "1        1             1     0            2  \n",
       "2        1             1     0            2  \n",
       "3        1             0     0            2  \n",
       "4        1             1     0            1  \n",
       "\n",
       "[5 rows x 21 columns]"
      ]
     },
     "execution_count": 5,
     "metadata": {},
     "output_type": "execute_result"
    }
   ],
   "source": [
    "df.head()"
   ]
  },
  {
   "cell_type": "code",
   "execution_count": 3,
   "id": "70c659f7",
   "metadata": {},
   "outputs": [
    {
     "data": {
      "text/plain": [
       "battery_power    0\n",
       "blue             0\n",
       "clock_speed      0\n",
       "dual_sim         0\n",
       "fc               0\n",
       "four_g           0\n",
       "int_memory       0\n",
       "m_dep            0\n",
       "mobile_wt        0\n",
       "n_cores          0\n",
       "pc               0\n",
       "px_height        0\n",
       "px_width         0\n",
       "ram              0\n",
       "sc_h             0\n",
       "sc_w             0\n",
       "talk_time        0\n",
       "three_g          0\n",
       "touch_screen     0\n",
       "wifi             0\n",
       "price_range      0\n",
       "dtype: int64"
      ]
     },
     "execution_count": 3,
     "metadata": {},
     "output_type": "execute_result"
    }
   ],
   "source": [
    "df.isnull().sum()"
   ]
  },
  {
   "cell_type": "code",
   "execution_count": 4,
   "id": "e40e351b",
   "metadata": {},
   "outputs": [],
   "source": [
    "x=df.drop(columns=['price_range'],axis=1)\n",
    "y=df['price_range']"
   ]
  },
  {
   "cell_type": "code",
   "execution_count": null,
   "id": "f96329eb",
   "metadata": {},
   "outputs": [],
   "source": [
    "import matplotlib.pyplot as plt \n",
    "import seaborn as sns"
   ]
  },
  {
   "cell_type": "code",
   "execution_count": null,
   "id": "a6052e22",
   "metadata": {},
   "outputs": [],
   "source": [
    "sns.pairplot(data=df,size=5)"
   ]
  },
  {
   "cell_type": "code",
   "execution_count": 6,
   "id": "c4bf5314",
   "metadata": {},
   "outputs": [],
   "source": [
    "l=df['price_range'].quantile(0.05)"
   ]
  },
  {
   "cell_type": "code",
   "execution_count": 7,
   "id": "b93b6017",
   "metadata": {},
   "outputs": [],
   "source": [
    "u=df['price_range'].quantile(0.95)"
   ]
  },
  {
   "cell_type": "code",
   "execution_count": 9,
   "id": "d3b5c456",
   "metadata": {},
   "outputs": [
    {
     "data": {
      "text/html": [
       "<div>\n",
       "<style scoped>\n",
       "    .dataframe tbody tr th:only-of-type {\n",
       "        vertical-align: middle;\n",
       "    }\n",
       "\n",
       "    .dataframe tbody tr th {\n",
       "        vertical-align: top;\n",
       "    }\n",
       "\n",
       "    .dataframe thead th {\n",
       "        text-align: right;\n",
       "    }\n",
       "</style>\n",
       "<table border=\"1\" class=\"dataframe\">\n",
       "  <thead>\n",
       "    <tr style=\"text-align: right;\">\n",
       "      <th></th>\n",
       "      <th>battery_power</th>\n",
       "      <th>blue</th>\n",
       "      <th>clock_speed</th>\n",
       "      <th>dual_sim</th>\n",
       "      <th>fc</th>\n",
       "      <th>four_g</th>\n",
       "      <th>int_memory</th>\n",
       "      <th>m_dep</th>\n",
       "      <th>mobile_wt</th>\n",
       "      <th>n_cores</th>\n",
       "      <th>...</th>\n",
       "      <th>px_height</th>\n",
       "      <th>px_width</th>\n",
       "      <th>ram</th>\n",
       "      <th>sc_h</th>\n",
       "      <th>sc_w</th>\n",
       "      <th>talk_time</th>\n",
       "      <th>three_g</th>\n",
       "      <th>touch_screen</th>\n",
       "      <th>wifi</th>\n",
       "      <th>price_range</th>\n",
       "    </tr>\n",
       "  </thead>\n",
       "  <tbody>\n",
       "  </tbody>\n",
       "</table>\n",
       "<p>0 rows × 21 columns</p>\n",
       "</div>"
      ],
      "text/plain": [
       "Empty DataFrame\n",
       "Columns: [battery_power, blue, clock_speed, dual_sim, fc, four_g, int_memory, m_dep, mobile_wt, n_cores, pc, px_height, px_width, ram, sc_h, sc_w, talk_time, three_g, touch_screen, wifi, price_range]\n",
       "Index: []\n",
       "\n",
       "[0 rows x 21 columns]"
      ]
     },
     "execution_count": 9,
     "metadata": {},
     "output_type": "execute_result"
    }
   ],
   "source": [
    "df[df['price_range']<l]"
   ]
  },
  {
   "cell_type": "markdown",
   "id": "55532b82",
   "metadata": {},
   "source": [
    "## Spliting the data into training and testing data"
   ]
  },
  {
   "cell_type": "code",
   "execution_count": 10,
   "id": "164f7861",
   "metadata": {},
   "outputs": [],
   "source": [
    "from sklearn.model_selection import train_test_split,cross_val_score\n",
    "x_train,x_test,y_train,y_test=train_test_split(x,y,test_size=0.25,random_state=42)"
   ]
  },
  {
   "cell_type": "markdown",
   "id": "4e44e088",
   "metadata": {},
   "source": [
    "## Applying The Models and Predicting the Price range"
   ]
  },
  {
   "cell_type": "markdown",
   "id": "2b48993c",
   "metadata": {},
   "source": [
    "### a) Logistic Regression"
   ]
  },
  {
   "cell_type": "code",
   "execution_count": 11,
   "id": "30f83c42",
   "metadata": {},
   "outputs": [
    {
     "name": "stdout",
     "output_type": "stream",
     "text": [
      "[0 2 0 3 1 2 3 0 3 3 0 1 2 3 3 2 2 2 1 0 0 1 0 2 1 1 3 3 3 0 1 0 3 0 2 3 2\n",
      " 1 3 0 1 2 3 0 3 3 3 1 3 1 3 2 0 0 2 0 1 2 0 0 1 3 3 2 2 0 3 3 1 1 2 1 0 1\n",
      " 2 0 0 3 2 1 3 2 1 0 1 3 3 3 3 0 3 3 3 0 3 2 2 3 2 1 0 1 0 0 1 3 3 0 0 1 0\n",
      " 0 3 3 2 1 3 3 0 2 1 3 2 2 3 3 0 3 0 2 3 0 2 2 0 2 1 1 0 2 3 1 3 3 0 0 1 2\n",
      " 1 2 3 1 1 0 2 3 0 1 0 1 3 3 1 2 1 0 0 2 1 3 3 1 0 0 3 1 1 2 0 1 0 0 0 1 3\n",
      " 2 0 2 0 0 0 0 1 3 3 1 0 1 1 1 1 2 1 2 3 3 1 3 0 1 1 1 1 1 3 1 1 3 1 1 3 2\n",
      " 3 0 0 3 0 2 0 0 1 0 2 3 2 1 0 2 3 1 3 3 2 3 0 3 2 2 2 3 3 1 1 3 2 1 2 3 3\n",
      " 3 3 0 2 2 2 2 3 0 3 3 2 2 2 0 1 3 0 2 3 1 3 1 1 2 0 3 0 0 3 0 1 2 3 2 2 0\n",
      " 1 0 0 3 3 0 1 1 2 0 3 3 3 3 1 3 2 0 3 2 3 2 0 0 1 3 1 3 1 1 2 0 3 3 2 0 2\n",
      " 2 2 1 3 1 0 3 1 2 1 1 1 1 2 2 3 3 1 1 1 2 2 0 3 0 0 2 0 0 2 2 2 3 0 1 2 3\n",
      " 3 3 2 3 1 2 0 2 1 3 3 0 1 3 1 3 2 3 1 0 3 2 0 0 3 3 1 2 3 2 0 3 0 2 2 2 0\n",
      " 1 1 1 0 0 1 0 3 3 2 1 2 1 3 1 0 3 1 0 0 3 0 3 0 1 1 2 3 0 2 0 2 1 3 3 1 3\n",
      " 1 2 1 0 3 2 0 2 2 2 2 2 1 1 2 3 1 0 3 1 1 1 3 3 3 2 0 2 2 0 1 2 3 1 2 0 0\n",
      " 0 2 3 0 1 2 2 2 3 1 2 2 3 0 0 0 2 3 1]\n"
     ]
    }
   ],
   "source": [
    "from sklearn.linear_model import LogisticRegression\n",
    "model_1=LogisticRegression()\n",
    "model_1.fit(x_train,y_train)\n",
    "y_pred_LR=model_1.predict(x_test)\n",
    "print(y_pred_LR)"
   ]
  },
  {
   "cell_type": "markdown",
   "id": "159119de",
   "metadata": {},
   "source": [
    "### b) KNN"
   ]
  },
  {
   "cell_type": "code",
   "execution_count": 15,
   "id": "34bd9d81",
   "metadata": {},
   "outputs": [],
   "source": [
    "import numpy as np\n",
    "x_test = np.array(x_test)"
   ]
  },
  {
   "cell_type": "code",
   "execution_count": 16,
   "id": "5c1154d8",
   "metadata": {},
   "outputs": [
    {
     "name": "stdout",
     "output_type": "stream",
     "text": [
      "[0 2 1 3 1 1 2 0 3 1 0 1 2 3 2 2 3 3 1 0 0 1 1 2 0 1 3 2 2 0 0 0 3 0 1 1 2\n",
      " 0 3 0 2 3 2 0 2 2 2 1 3 1 3 1 0 0 0 0 1 3 0 0 1 3 3 1 0 0 3 3 1 2 2 2 0 1\n",
      " 2 0 0 3 2 2 3 2 1 0 1 3 1 3 3 0 3 3 2 1 3 2 2 3 1 1 0 0 1 0 0 3 2 0 1 1 0\n",
      " 0 3 2 2 2 3 2 0 2 1 3 2 1 3 3 0 2 0 2 3 0 2 2 0 3 1 0 0 2 2 1 2 2 0 0 0 1\n",
      " 1 2 3 1 1 0 2 2 0 1 0 2 2 3 3 2 1 0 1 2 2 3 3 0 1 0 3 1 1 2 1 0 0 0 0 0 3\n",
      " 2 0 3 0 0 0 0 1 3 3 1 0 1 1 1 1 2 2 2 3 3 1 2 0 0 0 2 1 1 3 1 0 2 1 1 3 2\n",
      " 3 0 0 2 1 3 0 1 2 0 2 3 2 0 1 3 3 0 1 3 2 3 0 3 1 2 3 3 2 1 0 3 3 1 3 3 3\n",
      " 3 3 0 1 2 2 1 3 0 2 3 2 2 2 1 0 1 0 3 3 1 3 1 0 3 1 2 0 0 3 0 1 2 3 3 3 1\n",
      " 1 0 1 3 3 0 1 2 2 0 3 3 2 3 2 3 2 0 2 1 1 1 0 0 1 3 2 3 1 0 1 1 1 3 3 0 3\n",
      " 3 2 1 3 0 0 3 1 3 2 0 1 1 1 0 1 3 1 0 0 3 3 0 3 0 0 2 0 1 2 2 2 3 0 3 2 2\n",
      " 3 3 3 2 1 2 0 3 1 3 3 0 2 3 2 3 3 3 1 0 2 3 0 0 2 3 2 1 1 2 1 3 0 3 1 2 0\n",
      " 0 1 0 1 0 1 0 2 2 3 2 1 1 2 1 0 3 1 0 0 3 0 1 0 1 1 3 3 0 2 0 1 1 3 3 0 2\n",
      " 0 2 0 0 3 3 0 2 2 1 3 1 2 0 1 3 1 0 3 2 0 0 3 2 3 2 0 3 1 0 1 2 3 2 1 1 0\n",
      " 1 2 2 1 1 1 3 1 2 0 2 2 3 0 0 1 2 3 1]\n"
     ]
    }
   ],
   "source": [
    "from sklearn.neighbors import KNeighborsClassifier\n",
    "model_2=KNeighborsClassifier()\n",
    "model_2.fit(x_train,y_train)\n",
    "y_pred_KNN=model_2.predict(x_test)\n",
    "print(y_pred_KNN)"
   ]
  },
  {
   "cell_type": "markdown",
   "id": "19b2537c",
   "metadata": {},
   "source": [
    "### c) SVM"
   ]
  },
  {
   "cell_type": "code",
   "execution_count": 17,
   "id": "6b2e33fc",
   "metadata": {},
   "outputs": [
    {
     "name": "stdout",
     "output_type": "stream",
     "text": [
      "[0 2 1 3 1 1 2 0 3 1 0 1 2 3 3 2 3 3 1 0 0 2 1 2 0 1 3 2 2 0 0 0 3 0 1 1 2\n",
      " 0 3 0 2 3 2 0 3 3 2 1 3 1 3 1 0 0 1 1 1 3 0 0 1 3 3 1 0 0 3 3 1 2 2 2 0 1\n",
      " 2 0 1 3 2 2 3 2 1 0 1 3 1 3 3 0 3 3 2 1 3 2 2 3 1 1 0 0 1 0 1 3 2 0 1 1 0\n",
      " 0 3 1 3 2 3 2 0 2 1 3 2 1 3 3 0 2 0 2 3 0 2 2 0 3 1 0 0 2 2 1 2 2 0 0 0 1\n",
      " 1 2 3 1 1 0 2 2 0 1 0 2 2 3 3 3 1 0 1 2 2 3 3 0 1 0 3 1 1 2 1 0 0 0 0 0 3\n",
      " 2 0 3 0 0 0 0 1 3 3 1 0 1 1 1 1 2 2 3 3 3 1 2 0 0 0 2 1 1 3 1 1 2 1 1 3 2\n",
      " 3 0 0 2 1 3 0 1 2 0 2 3 2 0 1 3 3 0 1 3 3 3 0 3 1 2 3 3 2 1 0 3 3 1 3 3 3\n",
      " 3 3 0 1 2 2 2 3 0 2 3 2 2 2 1 0 2 0 3 3 1 3 1 1 3 1 2 0 0 3 0 1 2 3 3 3 1\n",
      " 1 0 1 3 3 0 1 2 2 0 3 3 2 3 2 3 2 0 2 1 1 1 0 0 0 3 3 3 1 0 1 0 1 2 3 0 3\n",
      " 3 2 1 3 0 0 2 1 3 2 0 1 1 1 1 1 3 2 0 0 3 3 0 3 0 0 2 0 1 2 2 2 3 0 3 2 3\n",
      " 3 3 3 2 1 1 0 3 1 3 3 0 2 3 2 3 3 3 0 0 2 3 0 0 2 3 2 1 1 2 1 3 0 3 1 2 0\n",
      " 0 1 0 1 0 1 0 2 2 3 2 1 1 2 1 1 3 1 0 0 3 0 1 0 0 2 3 3 0 2 0 1 1 3 3 1 2\n",
      " 0 2 0 0 3 3 0 2 2 2 3 1 2 0 1 3 1 0 3 1 0 0 3 2 3 2 0 2 1 0 1 2 3 2 1 1 0\n",
      " 1 2 2 1 0 1 3 1 2 0 2 2 3 0 0 1 2 3 1]\n"
     ]
    }
   ],
   "source": [
    "from sklearn.svm import SVC\n",
    "#For linear SVM\n",
    "model_3_linear=SVC(kernel='linear')\n",
    "model_3_linear.fit(x_train,y_train)\n",
    "y_pred_SVM_linear=model_3_linear.predict(x_test)\n",
    "print(y_pred_SVM_linear)"
   ]
  },
  {
   "cell_type": "code",
   "execution_count": 18,
   "id": "7453aa74",
   "metadata": {},
   "outputs": [
    {
     "name": "stdout",
     "output_type": "stream",
     "text": [
      "[0 2 1 3 1 1 2 0 3 1 0 0 2 3 2 2 3 3 1 0 0 1 1 2 0 1 3 2 2 0 0 0 3 0 1 1 2\n",
      " 0 3 0 2 3 2 0 2 2 2 1 3 1 3 1 0 0 1 1 1 3 0 0 1 3 3 1 0 0 3 3 1 2 2 2 0 1\n",
      " 2 0 0 3 2 2 3 2 1 0 1 3 1 3 3 0 3 3 2 1 3 2 2 3 1 1 0 0 1 0 0 3 2 0 1 1 0\n",
      " 0 3 1 3 2 3 2 0 2 1 3 2 1 3 3 0 3 0 2 3 0 2 2 0 3 1 0 0 2 2 1 2 2 0 0 0 1\n",
      " 1 2 3 1 1 0 2 2 0 1 0 2 2 3 3 2 1 0 1 2 2 3 3 0 1 0 3 1 1 2 1 0 0 0 0 0 3\n",
      " 2 0 3 0 0 0 0 1 3 3 1 0 1 1 1 1 2 2 3 3 3 1 2 0 0 0 2 1 1 3 1 0 2 1 1 3 2\n",
      " 3 0 0 2 1 3 0 1 2 0 2 3 2 0 1 3 3 0 1 3 3 3 0 3 1 2 3 3 2 1 1 3 3 1 3 3 3\n",
      " 3 3 0 1 2 2 2 3 0 2 3 2 2 2 1 0 1 0 3 3 1 3 1 0 3 1 2 0 0 3 0 1 2 3 3 3 0\n",
      " 1 0 1 3 3 0 1 2 2 0 3 3 2 3 2 3 2 0 2 1 1 1 0 0 0 2 2 3 1 0 1 0 1 2 3 0 3\n",
      " 3 2 1 3 0 0 2 1 3 2 0 1 1 1 1 1 3 2 0 0 3 3 0 3 0 0 2 0 1 2 2 2 3 0 3 2 2\n",
      " 3 3 3 2 1 1 0 3 1 3 3 0 2 3 2 3 3 3 0 0 2 3 0 0 2 3 2 1 1 2 1 3 1 3 1 2 0\n",
      " 0 1 0 1 0 1 0 2 2 3 2 1 1 2 1 1 3 1 0 0 3 0 1 0 0 1 3 3 0 2 0 1 1 3 3 0 2\n",
      " 0 2 0 0 3 3 0 2 2 2 3 1 2 0 1 3 1 0 3 1 0 0 3 2 3 2 0 2 1 0 1 2 3 2 1 1 0\n",
      " 1 2 2 1 1 1 3 1 2 0 3 2 3 1 0 1 2 3 1]\n"
     ]
    }
   ],
   "source": [
    "#For rbf SVM\n",
    "model_3_rbf=SVC(kernel='rbf')\n",
    "model_3_rbf.fit(x_train,y_train)\n",
    "y_pred_SVM_rbf=model_3_rbf.predict(x_test)\n",
    "print(y_pred_SVM_rbf)"
   ]
  },
  {
   "cell_type": "markdown",
   "id": "5f35ba15",
   "metadata": {},
   "source": [
    "\n",
    "### d) DecisionTreeClassifier"
   ]
  },
  {
   "cell_type": "code",
   "execution_count": 19,
   "id": "a0cd79f4",
   "metadata": {},
   "outputs": [
    {
     "name": "stdout",
     "output_type": "stream",
     "text": [
      "[0 2 1 3 1 2 2 0 2 1 0 1 3 3 2 2 3 3 1 0 0 1 1 1 0 1 2 2 2 0 0 0 3 0 2 1 2\n",
      " 0 3 0 2 3 1 0 2 2 1 1 3 1 3 1 0 0 0 0 1 3 0 0 1 3 3 1 0 0 3 3 1 2 2 2 0 1\n",
      " 3 0 0 3 2 2 3 2 1 0 1 3 2 3 3 1 3 3 2 1 3 2 2 3 1 1 0 0 1 0 0 3 3 0 0 1 0\n",
      " 0 2 2 2 2 3 2 0 2 1 3 2 1 3 3 0 3 1 2 3 0 2 2 0 3 1 0 0 2 3 1 3 3 0 0 0 1\n",
      " 2 2 3 1 1 0 2 2 0 1 0 1 2 3 3 3 1 0 1 2 2 3 3 1 1 0 3 2 2 2 1 1 0 0 0 0 3\n",
      " 2 0 3 0 0 0 0 1 3 3 1 0 0 1 1 1 1 2 3 3 3 0 2 0 0 0 2 1 1 3 1 1 3 1 1 3 2\n",
      " 3 0 0 1 1 3 0 1 2 0 2 3 2 1 1 3 3 0 2 3 3 3 0 3 1 2 3 3 2 1 1 3 3 1 3 3 3\n",
      " 3 3 1 1 2 3 1 3 0 1 3 2 2 2 1 0 1 0 2 3 1 3 1 0 3 1 2 0 0 3 0 1 3 3 3 3 0\n",
      " 0 0 1 3 3 0 1 1 2 0 3 3 2 3 2 3 2 0 2 1 1 1 0 0 1 3 2 3 1 0 2 1 2 3 3 1 3\n",
      " 3 2 1 2 0 0 3 1 3 2 0 1 2 2 0 2 3 1 0 0 3 3 0 3 0 0 2 0 1 1 2 2 3 0 2 2 3\n",
      " 3 3 3 3 1 2 0 3 2 3 3 0 2 3 2 3 3 3 1 0 2 3 0 0 3 3 1 1 1 2 1 2 1 3 1 2 0\n",
      " 0 1 0 1 0 1 1 2 2 3 2 1 1 3 1 0 3 1 0 1 2 0 1 0 1 1 3 3 0 2 0 1 1 3 3 0 2\n",
      " 0 2 0 0 3 3 0 2 2 1 3 1 2 1 1 3 1 0 3 1 0 0 3 2 3 2 0 3 0 0 1 3 3 2 1 1 0\n",
      " 1 2 2 1 1 1 3 2 2 0 2 2 3 1 0 1 2 3 1]\n"
     ]
    }
   ],
   "source": [
    "from sklearn.tree import DecisionTreeClassifier\n",
    "model_4=DecisionTreeClassifier()\n",
    "model_4.fit(x_train,y_train)\n",
    "y_pred_DT=model_4.predict(x_test)\n",
    "print(y_pred_DT)"
   ]
  },
  {
   "cell_type": "markdown",
   "id": "57d018fa",
   "metadata": {},
   "source": [
    "### e) RandomForestClassifier"
   ]
  },
  {
   "cell_type": "code",
   "execution_count": 20,
   "id": "1a965dee",
   "metadata": {},
   "outputs": [
    {
     "name": "stdout",
     "output_type": "stream",
     "text": [
      "[0 2 1 3 1 2 2 0 3 1 0 1 2 3 2 2 3 3 1 0 0 1 1 2 0 1 2 2 2 0 0 0 3 0 1 1 2\n",
      " 0 3 0 2 3 2 0 3 2 2 1 3 1 3 1 0 0 1 1 1 2 0 0 1 3 3 1 0 0 3 3 1 2 2 3 0 1\n",
      " 2 0 0 3 2 1 3 2 1 0 1 3 2 3 3 0 3 3 2 1 3 2 2 3 1 1 0 0 1 0 0 3 2 0 1 1 0\n",
      " 0 3 1 3 2 3 3 0 2 1 3 2 1 3 3 0 3 0 2 3 0 2 2 0 3 1 0 0 2 3 0 2 2 0 0 0 1\n",
      " 2 2 3 1 1 0 2 2 0 1 0 1 2 3 2 3 1 0 0 2 2 3 3 1 0 0 3 1 2 2 1 0 0 0 0 0 3\n",
      " 2 0 3 0 0 0 0 1 3 3 1 0 1 2 1 1 2 2 2 3 3 1 2 0 0 0 2 1 1 3 1 0 2 1 1 3 1\n",
      " 3 0 0 2 1 2 0 0 2 0 1 3 2 1 1 3 3 0 1 3 3 3 0 3 1 2 3 3 2 1 1 3 3 1 3 3 3\n",
      " 3 3 0 1 2 2 2 2 0 2 3 2 2 2 1 0 2 0 3 3 1 3 1 0 3 1 2 0 0 3 0 1 2 3 3 3 1\n",
      " 1 0 1 3 3 0 1 1 2 0 3 3 2 3 1 3 2 0 2 1 1 1 0 0 0 3 2 3 1 0 1 0 1 3 3 0 3\n",
      " 2 2 1 2 0 0 3 1 3 2 0 1 1 2 1 1 3 2 0 0 3 3 0 3 0 0 2 0 0 2 2 2 3 0 3 2 2\n",
      " 3 3 3 2 1 2 0 3 1 3 3 0 2 3 2 3 3 3 0 0 2 3 0 0 2 3 2 1 1 2 1 3 1 3 1 2 0\n",
      " 0 1 0 1 0 2 0 2 2 3 2 1 1 3 1 0 3 1 0 0 3 0 1 0 0 1 3 3 0 2 1 1 1 3 3 1 2\n",
      " 0 2 0 0 3 3 0 2 2 1 3 1 2 0 1 3 1 0 3 1 0 0 3 2 3 2 0 3 1 0 1 2 3 2 1 1 0\n",
      " 1 2 2 1 1 1 3 1 2 0 2 2 3 0 0 1 2 3 1]\n"
     ]
    }
   ],
   "source": [
    "from sklearn.ensemble import RandomForestClassifier\n",
    "model_5=RandomForestClassifier()\n",
    "model_5.fit(x_train,y_train)\n",
    "y_pred_RF=model_5.predict(x_test)\n",
    "print(y_pred_RF)"
   ]
  },
  {
   "cell_type": "code",
   "execution_count": 27,
   "id": "4b24537e",
   "metadata": {},
   "outputs": [],
   "source": [
    "import pickle"
   ]
  },
  {
   "cell_type": "code",
   "execution_count": 31,
   "id": "ce76250a",
   "metadata": {},
   "outputs": [],
   "source": [
    "file_name = 'model.pkl'\n",
    "\n",
    "with open(file_name,'wb') as file:\n",
    "  pickle.dump(model_3_linear,file)"
   ]
  },
  {
   "cell_type": "code",
   "execution_count": 33,
   "id": "7d40578e",
   "metadata": {},
   "outputs": [],
   "source": [
    "import pickle\n",
    "with open('model.pkl', 'rb') as file:\n",
    "    model = pickle.load(file)"
   ]
  },
  {
   "cell_type": "markdown",
   "id": "4f5d25de",
   "metadata": {},
   "source": [
    "## Confusion matrix and Classification report of all the Models"
   ]
  },
  {
   "cell_type": "code",
   "execution_count": null,
   "id": "0100c630",
   "metadata": {},
   "outputs": [],
   "source": [
    "from sklearn.metrics import confusion_matrix,classification_report"
   ]
  },
  {
   "cell_type": "code",
   "execution_count": null,
   "id": "3fee02d4",
   "metadata": {},
   "outputs": [],
   "source": [
    "print('Confusion matrix for Logistic Regression\\n',confusion_matrix(y_test,y_pred_LR))\n",
    "print('Classification report for Logistic Regression\\n',classification_report(y_test,y_pred_LR))"
   ]
  },
  {
   "cell_type": "code",
   "execution_count": null,
   "id": "98d7ee72",
   "metadata": {},
   "outputs": [],
   "source": [
    "\n",
    "print('Confusion matrix for KNN Classifier\\n',confusion_matrix(y_test,y_pred_KNN))\n",
    "print('Classification report for KNN Classifier\\n',classification_report(y_test,y_pred_KNN))"
   ]
  },
  {
   "cell_type": "code",
   "execution_count": null,
   "id": "e8e5cdee",
   "metadata": {},
   "outputs": [],
   "source": [
    "print('Confusion matrix for SVM_linear\\n',confusion_matrix(y_test,y_pred_SVM_linear))\n",
    "print('Classification report for SVM_linear\\n',classification_report(y_test,y_pred_SVM_linear))"
   ]
  },
  {
   "cell_type": "code",
   "execution_count": null,
   "id": "081c9f43",
   "metadata": {},
   "outputs": [],
   "source": [
    "print('Confusion matrix for SVM_rbf\\n',confusion_matrix(y_test,y_pred_SVM_rbf))\n",
    "print('Classification report for SVM_rbf\\n',classification_report(y_test,y_pred_SVM_rbf))"
   ]
  },
  {
   "cell_type": "code",
   "execution_count": null,
   "id": "4d5694b1",
   "metadata": {},
   "outputs": [],
   "source": [
    "print('Confusion matrix for Decision Tree Classifier\\n',confusion_matrix(y_test,y_pred_DT))\n",
    "print('Classification report for Decision Tree Classifier\\n',classification_report(y_test,y_pred_DT))"
   ]
  },
  {
   "cell_type": "code",
   "execution_count": null,
   "id": "feb7bb63",
   "metadata": {},
   "outputs": [],
   "source": [
    "print('Confusion matrix for Random Forest Classifier\\n',confusion_matrix(y_test,y_pred_RF))\n",
    "print('Classification report for Random Forest Classifier\\n',classification_report(y_test,y_pred_RF))"
   ]
  },
  {
   "cell_type": "markdown",
   "id": "74b85985",
   "metadata": {},
   "source": [
    "## Reporting the model with the best accuracy"
   ]
  },
  {
   "cell_type": "code",
   "execution_count": 21,
   "id": "85d7fd15",
   "metadata": {},
   "outputs": [],
   "source": [
    "models = [LogisticRegression(),KNeighborsClassifier(),SVC(kernel='linear'),SVC(kernel='rbf'),DecisionTreeClassifier(),RandomForestClassifier()]"
   ]
  },
  {
   "cell_type": "code",
   "execution_count": 22,
   "id": "812e6c80",
   "metadata": {},
   "outputs": [],
   "source": [
    "from sklearn.model_selection import cross_val_score\n",
    "accuracy_means = []\n",
    "for model in models:\n",
    "    scores = cross_val_score(model, x, y, cv=5)\n",
    "    accuracy_means.append(round(scores.mean(),2))"
   ]
  },
  {
   "cell_type": "code",
   "execution_count": 23,
   "id": "548eded1",
   "metadata": {},
   "outputs": [
    {
     "data": {
      "text/plain": [
       "[0.64, nan, 0.97, 0.95, 0.82, 0.88]"
      ]
     },
     "execution_count": 23,
     "metadata": {},
     "output_type": "execute_result"
    }
   ],
   "source": [
    "accuracy_means"
   ]
  },
  {
   "cell_type": "code",
   "execution_count": 24,
   "id": "a3007228",
   "metadata": {},
   "outputs": [
    {
     "data": {
      "text/plain": [
       "2"
      ]
     },
     "execution_count": 24,
     "metadata": {},
     "output_type": "execute_result"
    }
   ],
   "source": [
    "accuracy_means.index(max(accuracy_means))"
   ]
  },
  {
   "cell_type": "code",
   "execution_count": 25,
   "id": "1ce7c20b",
   "metadata": {},
   "outputs": [
    {
     "name": "stdout",
     "output_type": "stream",
     "text": [
      "The Best Model is  SVC(kernel='linear') with an Accuracy mean of 0.97\n"
     ]
    }
   ],
   "source": [
    "print(\"The Best Model is \",models[accuracy_means.index(max(accuracy_means))], \"with an Accuracy mean of\",accuracy_means[round(accuracy_means.index(max(accuracy_means)))])"
   ]
  }
 ],
 "metadata": {
  "kernelspec": {
   "display_name": "Python 3 (ipykernel)",
   "language": "python",
   "name": "python3"
  },
  "language_info": {
   "codemirror_mode": {
    "name": "ipython",
    "version": 3
   },
   "file_extension": ".py",
   "mimetype": "text/x-python",
   "name": "python",
   "nbconvert_exporter": "python",
   "pygments_lexer": "ipython3",
   "version": "3.9.13"
  }
 },
 "nbformat": 4,
 "nbformat_minor": 5
}
